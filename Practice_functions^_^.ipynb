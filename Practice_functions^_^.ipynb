{
 "cells": [
  {
   "cell_type": "code",
   "execution_count": 2,
   "metadata": {},
   "outputs": [
    {
     "data": {
      "text/plain": [
       "3.5"
      ]
     },
     "execution_count": 2,
     "metadata": {},
     "output_type": "execute_result"
    }
   ],
   "source": [
    "# Calculating Average of Numbers Using Functions\n",
    "def avg(numbers):\n",
    "    sum = 0 ;\n",
    "    for i in numbers :\n",
    "        sum += i\n",
    "    return sum/len(numbers)\n",
    "value = avg([2,3,4,5])\n",
    "value"
   ]
  },
  {
   "cell_type": "code",
   "execution_count": 14,
   "metadata": {},
   "outputs": [
    {
     "name": "stdout",
     "output_type": "stream",
     "text": [
      "karim ---- 5\n",
      "afsdfdfdf ---- 9\n",
      "afsdfdfdf\n"
     ]
    }
   ],
   "source": [
    "# Finding the Longest Word in a List\n",
    "def longestWord(words):\n",
    "    mxLength = 0  \n",
    "    longestWord = ''\n",
    "    for word in words :\n",
    "        if mxLength < len(word):\n",
    "            mxLength = len(word)\n",
    "            longestWord = word\n",
    "    return longestWord\n",
    "print(longestWord(['karim','afsdfdfdf','tamer']))"
   ]
  },
  {
   "cell_type": "code",
   "execution_count": 20,
   "metadata": {},
   "outputs": [
    {
     "data": {
      "text/plain": [
       "283"
      ]
     },
     "execution_count": 20,
     "metadata": {},
     "output_type": "execute_result"
    }
   ],
   "source": [
    "# Converting Temperature Units\n",
    "def converter():\n",
    "    return lambda cel : cel +273\n",
    "convertToKelvin = converter()\n",
    "kelvin = convertToKelvin(10)\n",
    "kelvin"
   ]
  },
  {
   "cell_type": "code",
   "execution_count": 26,
   "metadata": {},
   "outputs": [
    {
     "name": "stdout",
     "output_type": "stream",
     "text": [
      "[9, 16, 25]\n"
     ]
    }
   ],
   "source": [
    "# Generating a List of Squares Using List Comprehension and Functions\n",
    "def squares(nums):\n",
    "    squres = [x**2 for x in nums]\n",
    "    return squres\n",
    "print(squares([3,4,5]))"
   ]
  },
  {
   "cell_type": "code",
   "execution_count": 30,
   "metadata": {},
   "outputs": [
    {
     "name": "stdout",
     "output_type": "stream",
     "text": [
      "['JARIK', 'KARIM']\n"
     ]
    }
   ],
   "source": [
    "# Converting a List of Strings to Uppercase\n",
    "def upper(strings):\n",
    "    uppers = [x.upper() for x in strings]\n",
    "    return uppers \n",
    "print(upper(['jarik','KArim']))"
   ]
  },
  {
   "cell_type": "code",
   "execution_count": 32,
   "metadata": {},
   "outputs": [
    {
     "name": "stdout",
     "output_type": "stream",
     "text": [
      "1200.0\n"
     ]
    }
   ],
   "source": [
    "# Calculating the Total Price Including Tax\n",
    "def total(total):\n",
    "    return total + .2*total \n",
    "print(total(1000))"
   ]
  },
  {
   "cell_type": "code",
   "execution_count": 34,
   "metadata": {},
   "outputs": [
    {
     "name": "stdout",
     "output_type": "stream",
     "text": [
      "max is 53 and min is -5\n"
     ]
    }
   ],
   "source": [
    "# Finding the Minimum and Maximum Values in a List\n",
    "def mx_mn(nums):\n",
    "    mx = 0\n",
    "    mn = -1\n",
    "    for item in nums :\n",
    "        if mx <item :\n",
    "            mx = item\n",
    "        if mn>item :\n",
    "            mn = item\n",
    "    return mx,mn\n",
    "mx,mn = mx_mn([34,53,4,2,-5])\n",
    "print(f'max is {mx} and min is {mn}')"
   ]
  },
  {
   "cell_type": "code",
   "execution_count": 38,
   "metadata": {},
   "outputs": [
    {
     "name": "stdout",
     "output_type": "stream",
     "text": [
      "not valid\n",
      "valid\n"
     ]
    },
    {
     "data": {
      "text/plain": [
       "(-1, None)"
      ]
     },
     "execution_count": 38,
     "metadata": {},
     "output_type": "execute_result"
    }
   ],
   "source": [
    "# Checking if a String is a Valid Email Address\n",
    "def validate(email):\n",
    "    if len(email) < 15 or not email.endswith('@gmail.com') :\n",
    "        print('not valid')\n",
    "        return -1\n",
    "    print('valid')\n",
    "validate('karim@ggg.com'),validate('karimmotare@gmail.com')"
   ]
  },
  {
   "cell_type": "code",
   "execution_count": 46,
   "metadata": {},
   "outputs": [
    {
     "name": "stdout",
     "output_type": "stream",
     "text": [
      "<built-in method values of dict object at 0x000002482E36D940>\n"
     ]
    }
   ],
   "source": [
    "def char_count(string):\n",
    "    char_frequency = {}  \n",
    "    for char in string:\n",
    "        if char in char_frequency:\n",
    "            char_frequency[char] += 1 \n",
    "        else:\n",
    "            char_frequency[char] = 1  \n",
    "    return char_frequency\n",
    "\n",
    "# Example usage\n",
    "print(char_count('karimmotar'))\n"
   ]
  },
  {
   "attachments": {},
   "cell_type": "markdown",
   "metadata": {},
   "source": [
    "# Counting the Frequency of Each Character in a String\n",
    "\n"
   ]
  },
  {
   "cell_type": "code",
   "execution_count": null,
   "metadata": {},
   "outputs": [],
   "source": []
  },
  {
   "cell_type": "code",
   "execution_count": null,
   "metadata": {},
   "outputs": [],
   "source": []
  }
 ],
 "metadata": {
  "kernelspec": {
   "display_name": "Python 3 (ipykernel)",
   "language": "python",
   "name": "python3"
  },
  "language_info": {
   "codemirror_mode": {
    "name": "ipython",
    "version": 3
   },
   "file_extension": ".py",
   "mimetype": "text/x-python",
   "name": "python",
   "nbconvert_exporter": "python",
   "pygments_lexer": "ipython3",
   "version": "3.12.7"
  }
 },
 "nbformat": 4,
 "nbformat_minor": 4
}
