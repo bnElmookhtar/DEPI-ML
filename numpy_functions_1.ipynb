{
 "cells": [
  {
   "cell_type": "code",
   "execution_count": 1,
   "metadata": {
    "id": "hU7B0Sv-0X3H"
   },
   "outputs": [],
   "source": [
    "import numpy as np"
   ]
  },
  {
   "cell_type": "code",
   "execution_count": 3,
   "metadata": {
    "id": "pxinJdNp0cLr"
   },
   "outputs": [],
   "source": [
    "arr1 = [2,3,4,5]\n",
    "np_arr = np.array(arr1) # converting list to numpy array"
   ]
  },
  {
   "cell_type": "code",
   "execution_count": 4,
   "metadata": {
    "colab": {
     "base_uri": "https://localhost:8080/"
    },
    "id": "PEJuZDoQ0oC5",
    "outputId": "88649e06-3218-476d-a398-255063068ae6"
   },
   "outputs": [
    {
     "name": "stdout",
     "output_type": "stream",
     "text": [
      "int64\n"
     ]
    }
   ],
   "source": [
    "print(np_arr.dtype)"
   ]
  },
  {
   "cell_type": "code",
   "execution_count": 6,
   "metadata": {
    "colab": {
     "base_uri": "https://localhost:8080/"
    },
    "id": "4aF7l5Sr0tR7",
    "outputId": "8601b48a-8bbc-464a-83f0-78c2f8492da6"
   },
   "outputs": [
    {
     "data": {
      "text/plain": [
       "array([[1, 2, 3],\n",
       "       [4, 5, 6]])"
      ]
     },
     "execution_count": 6,
     "metadata": {},
     "output_type": "execute_result"
    }
   ],
   "source": [
    "# Multi dimention array\n",
    "mul_arr = [[1,2,3],[4,5,6]]\n",
    "np_mul_arr = np.array(mul_arr)\n",
    "\n",
    "np_mul_arr\n"
   ]
  },
  {
   "cell_type": "code",
   "execution_count": 7,
   "metadata": {
    "colab": {
     "base_uri": "https://localhost:8080/"
    },
    "id": "Dh3C6udm2uNW",
    "outputId": "a3625866-43e8-42af-bcb9-f6e8c6f18661"
   },
   "outputs": [
    {
     "name": "stdout",
     "output_type": "stream",
     "text": [
      "(2, 3)\n"
     ]
    }
   ],
   "source": [
    "print(np_mul_arr.shape)"
   ]
  },
  {
   "cell_type": "code",
   "execution_count": 11,
   "metadata": {
    "colab": {
     "base_uri": "https://localhost:8080/"
    },
    "id": "jsMo_IRA5Xbt",
    "outputId": "add840a0-aad8-40e2-905f-4ea6a189df7d"
   },
   "outputs": [
    {
     "data": {
      "text/plain": [
       "(array([[[0, 0],\n",
       "         [0, 0],\n",
       "         [0, 0]],\n",
       " \n",
       "        [[0, 0],\n",
       "         [0, 0],\n",
       "         [0, 0]],\n",
       " \n",
       "        [[0, 0],\n",
       "         [0, 0],\n",
       "         [0, 0]]]),\n",
       " array([[[1, 1, 1, 1],\n",
       "         [1, 1, 1, 1],\n",
       "         [1, 1, 1, 1]],\n",
       " \n",
       "        [[1, 1, 1, 1],\n",
       "         [1, 1, 1, 1],\n",
       "         [1, 1, 1, 1]],\n",
       " \n",
       "        [[1, 1, 1, 1],\n",
       "         [1, 1, 1, 1],\n",
       "         [1, 1, 1, 1]]]),\n",
       " array([[[4, 4, 4, 4],\n",
       "         [4, 4, 4, 4],\n",
       "         [4, 4, 4, 4]],\n",
       " \n",
       "        [[4, 4, 4, 4],\n",
       "         [4, 4, 4, 4],\n",
       "         [4, 4, 4, 4]],\n",
       " \n",
       "        [[4, 4, 4, 4],\n",
       "         [4, 4, 4, 4],\n",
       "         [4, 4, 4, 4]]]))"
      ]
     },
     "execution_count": 11,
     "metadata": {},
     "output_type": "execute_result"
    }
   ],
   "source": [
    "zeros = np.zeros((3,3,2),dtype=int)\n",
    "ones = np.ones((3,3,4),dtype=int)\n",
    "factor = 4 * ones\n",
    "zeros,ones,factor"
   ]
  },
  {
   "cell_type": "code",
   "execution_count": 12,
   "metadata": {
    "colab": {
     "base_uri": "https://localhost:8080/"
    },
    "id": "qwVZDU4P8FPq",
    "outputId": "a65581d8-2916-4fca-bab6-b57128206ad5"
   },
   "outputs": [
    {
     "data": {
      "text/plain": [
       "array([0, 1, 2, 3, 4, 5, 6, 7, 8, 9])"
      ]
     },
     "execution_count": 12,
     "metadata": {},
     "output_type": "execute_result"
    }
   ],
   "source": [
    "# vector array\n",
    "arr = np.arange(10)\n",
    "arr"
   ]
  },
  {
   "cell_type": "code",
   "execution_count": 13,
   "metadata": {
    "id": "Upvw_Up58Vhv"
   },
   "outputs": [],
   "source": [
    "#linespace(start,step,end)\n",
    "arr = np.linspace(0,20)"
   ]
  },
  {
   "cell_type": "code",
   "execution_count": 14,
   "metadata": {
    "colab": {
     "base_uri": "https://localhost:8080/"
    },
    "id": "BggL0dTG9tXQ",
    "outputId": "c30b02d8-8a68-4a17-d66f-802bdf4ccb99"
   },
   "outputs": [
    {
     "name": "stdout",
     "output_type": "stream",
     "text": [
      "[ 0.          0.40816327  0.81632653  1.2244898   1.63265306  2.04081633\n",
      "  2.44897959  2.85714286  3.26530612  3.67346939  4.08163265  4.48979592\n",
      "  4.89795918  5.30612245  5.71428571  6.12244898  6.53061224  6.93877551\n",
      "  7.34693878  7.75510204  8.16326531  8.57142857  8.97959184  9.3877551\n",
      "  9.79591837 10.20408163 10.6122449  11.02040816 11.42857143 11.83673469\n",
      " 12.24489796 12.65306122 13.06122449 13.46938776 13.87755102 14.28571429\n",
      " 14.69387755 15.10204082 15.51020408 15.91836735 16.32653061 16.73469388\n",
      " 17.14285714 17.55102041 17.95918367 18.36734694 18.7755102  19.18367347\n",
      " 19.59183673 20.        ]\n"
     ]
    }
   ],
   "source": [
    "print(arr)"
   ]
  },
  {
   "cell_type": "code",
   "execution_count": 15,
   "metadata": {
    "colab": {
     "base_uri": "https://localhost:8080/"
    },
    "id": "zbkJCWkZ9usS",
    "outputId": "24465849-4ca3-464e-e6fd-6affcc71978a"
   },
   "outputs": [
    {
     "data": {
      "text/plain": [
       "array([[[0.33250154, 0.72413815],\n",
       "        [0.82050875, 0.45165444],\n",
       "        [0.19817779, 0.76314061]],\n",
       "\n",
       "       [[0.1167205 , 0.82370157],\n",
       "        [0.40555655, 0.79427265],\n",
       "        [0.76952521, 0.30329836]],\n",
       "\n",
       "       [[0.52802949, 0.12389909],\n",
       "        [0.57331883, 0.30613781],\n",
       "        [0.40015129, 0.93012651]]])"
      ]
     },
     "execution_count": 15,
     "metadata": {},
     "output_type": "execute_result"
    }
   ],
   "source": [
    "#random numbers\n",
    "arr = np.random.rand(3,3,2)\n",
    "arr"
   ]
  }
 ],
 "metadata": {
  "colab": {
   "provenance": []
  },
  "kernelspec": {
   "display_name": "Python 3",
   "name": "python3"
  },
  "language_info": {
   "codemirror_mode": {
    "name": "ipython",
    "version": 3
   },
   "file_extension": ".py",
   "mimetype": "text/x-python",
   "name": "python",
   "nbconvert_exporter": "python",
   "pygments_lexer": "ipython3",
   "version": "3.12.7"
  }
 },
 "nbformat": 4,
 "nbformat_minor": 0
}
